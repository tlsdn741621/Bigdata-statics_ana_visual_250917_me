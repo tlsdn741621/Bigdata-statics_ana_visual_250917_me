{
 "cells": [
  {
   "cell_type": "markdown",
   "metadata": {},
   "source": [
    "## 머신러닝 프로세스 기반 \n",
    "### 수집된(전처리가된 데이터)-> 모델 -> 모델 학습 -> 예측(평가)\n",
    "### 데이터 : UCI 레포지토리에서 제공이되는 , 유방암 진단 샘플 데이터 를 이용.\n",
    "### 로지스틱 회귀, 시그모이드 함수,  \n",
    "### 성능 평가 지표 -> 오차 행렬, 정밀도, 재현율 , F1 스코어 , ROC 기반 AUC 스코어 \n",
    "### 예) 암이 아닌 환자, 암 환자 (예측)\n",
    "### 행(실제)\n",
    "### 0     TN            FP\n",
    "### 1     FN            TP\n",
    "\n",
    "\n"
   ]
  },
  {
   "cell_type": "markdown",
   "metadata": {},
   "source": [
    "## 용어정리 \n",
    "### 로지스틱 회귀 : 분류에 사용하는 기법, 선형함수(직선)를 사용해서, 추세를 예측하는 선형회귀\n",
    "### 선형 회귀랑은 다르게 , 참, 거짓을 분류를 하는 목적. 비선형함수(시그모이드 함수 )\n",
    "\n",
    "### 시그모이드 함수 기본형,-> s자형이고, x 클수록 1에 근사하고, , x 작을수록 0에 근사합니다. \n",
    "### f(x) = 1 / 1+ e^-x\n",
    "\n",
    "### 오차 행렬\n",
    "### -> 사이킷런에 함수로 제공 : confusion_matrix\n",
    "\n",
    "###                 Negative    Positive\n",
    "### 행(실제 클래스),(예측 부정)  (예측 긍정)  열( 예측 클래스 )\n",
    "### \n",
    "### (실제 부정)0     TN            FP\n",
    "### (실제 긍정)1     FN            TP\n",
    "## TP (True Positive, 진양성): 정답. 실제 '긍정'인 것을 '긍정'으로 올바르게 예측한 경우.\n",
    "\n",
    "## TN (True Negative, 진음성): 정답. 실제 '부정'인 것을 '부정'으로 올바르게 예측한 경우.\n",
    "\n",
    "## FP (False Positive, 위양성): 1종 오류. 실제는 '부정'인데 '긍정'으로 잘못 예측한 경우. (멀쩡한 사람을 암 환자로 예측)\n",
    "\n",
    "## FN (False Negative, 위음성): 2종 오류. 실제는 '긍정'인데 '부정'으로 잘못 예측한 경우. (암 환자를 멀쩡하다고 예측)\n",
    "\n",
    "### 정확도 = 바르게 예측하는 모든 수 (TN + TP) / 전체 데이터 수 (TN + FP + FN + TP)\n",
    "### 정밀도 = 참인 것의 수 (TP) / 예측이 긍정인것(FP + TP)\n",
    "### -> Positive 예측 성능을 더 정밀하게 평가하는 지표, \n",
    "### -> 사이킷런에 함수로 제공 : precision_score\n",
    "\n",
    "\n",
    "### ex) 암 환자 진단할 때, 정확도 중요한가요?, 정밀도 중요한가요? , 정밀도가 더 중요함. \n",
    "### 암이냐?, 아니냐?  -> 정밀도, \n",
    "\n",
    "### 재현율 = 참인 것의 수 (TP) / 실제값 이 긍정인것 중에서 (FN + TP)\n",
    "### -> 실제 Positive 인 데이터를 정확히 예측하는 평가 지표. 민감도라고하고, TPR(True Positive Rate)\n",
    "### -> 사이킷런에 함수로 제공 : recall_score\n",
    "\n",
    "### F1 스코어 : 정밀도와 재현율을 결합한 평가지표, 상충관계 문제점을 고려해서 , 정확한 평가에 사용이됨. \n",
    "### F1 스코어 = 2 x (정밀도 x 재현율)/(정밀도 + 재현율)\n",
    "\n",
    "### ROC 기반 AUC 스코어 \n",
    "### ROC 기반 AUC 스코어 = TPR / FPR\n",
    "### FPR(False Positive Rate)  = 거짓인 것의 수 (FP) / 실제값 이 거짓인것 중에서 (TN + FP)\n",
    "### ROC 기반 AUC 스코어 -> 1에 가까울수록 좋은 성능. \n",
    "### -> 사이킷런에 함수로 제공 : roc_auc_score\n",
    "\n",
    "\n",
    "### 유방암 데이터 샘플을 가지고, 실제 암환자, 모델을 학습 -> 학습된 모델을 평가 \n",
    "### 평가의 예측값이 -> 실제값과 어느정도 일치 하는지 여부, 우리가 확인. \n",
    "\n",
    "### 보스턴의 집값도, 사이킷런에서 내장된 데이터를 사용했음. "
   ]
  },
  {
   "cell_type": "code",
   "metadata": {
    "ExecuteTime": {
     "end_time": "2025-09-22T05:21:54.586333Z",
     "start_time": "2025-09-22T05:21:54.235062Z"
    }
   },
   "source": [
    "import numpy as np \n",
    "import pandas as pd \n",
    "\n",
    "from sklearn.datasets import load_breast_cancer"
   ],
   "outputs": [],
   "execution_count": 1
  },
  {
   "cell_type": "code",
   "metadata": {
    "ExecuteTime": {
     "end_time": "2025-09-22T05:21:54.628975Z",
     "start_time": "2025-09-22T05:21:54.588420Z"
    }
   },
   "source": [
    "b_cancer = load_breast_cancer()\n",
    "print(b_cancer.DESCR)"
   ],
   "outputs": [
    {
     "name": "stdout",
     "output_type": "stream",
     "text": [
      ".. _breast_cancer_dataset:\n",
      "\n",
      "Breast cancer wisconsin (diagnostic) dataset\n",
      "--------------------------------------------\n",
      "\n",
      "**Data Set Characteristics:**\n",
      "\n",
      "    :Number of Instances: 569\n",
      "\n",
      "    :Number of Attributes: 30 numeric, predictive attributes and the class\n",
      "\n",
      "    :Attribute Information:\n",
      "        - radius (mean of distances from center to points on the perimeter)\n",
      "        - texture (standard deviation of gray-scale values)\n",
      "        - perimeter\n",
      "        - area\n",
      "        - smoothness (local variation in radius lengths)\n",
      "        - compactness (perimeter^2 / area - 1.0)\n",
      "        - concavity (severity of concave portions of the contour)\n",
      "        - concave points (number of concave portions of the contour)\n",
      "        - symmetry\n",
      "        - fractal dimension (\"coastline approximation\" - 1)\n",
      "\n",
      "        The mean, standard error, and \"worst\" or largest (mean of the three\n",
      "        worst/largest values) of these features were computed for each image,\n",
      "        resulting in 30 features.  For instance, field 0 is Mean Radius, field\n",
      "        10 is Radius SE, field 20 is Worst Radius.\n",
      "\n",
      "        - class:\n",
      "                - WDBC-Malignant\n",
      "                - WDBC-Benign\n",
      "\n",
      "    :Summary Statistics:\n",
      "\n",
      "    ===================================== ====== ======\n",
      "                                           Min    Max\n",
      "    ===================================== ====== ======\n",
      "    radius (mean):                        6.981  28.11\n",
      "    texture (mean):                       9.71   39.28\n",
      "    perimeter (mean):                     43.79  188.5\n",
      "    area (mean):                          143.5  2501.0\n",
      "    smoothness (mean):                    0.053  0.163\n",
      "    compactness (mean):                   0.019  0.345\n",
      "    concavity (mean):                     0.0    0.427\n",
      "    concave points (mean):                0.0    0.201\n",
      "    symmetry (mean):                      0.106  0.304\n",
      "    fractal dimension (mean):             0.05   0.097\n",
      "    radius (standard error):              0.112  2.873\n",
      "    texture (standard error):             0.36   4.885\n",
      "    perimeter (standard error):           0.757  21.98\n",
      "    area (standard error):                6.802  542.2\n",
      "    smoothness (standard error):          0.002  0.031\n",
      "    compactness (standard error):         0.002  0.135\n",
      "    concavity (standard error):           0.0    0.396\n",
      "    concave points (standard error):      0.0    0.053\n",
      "    symmetry (standard error):            0.008  0.079\n",
      "    fractal dimension (standard error):   0.001  0.03\n",
      "    radius (worst):                       7.93   36.04\n",
      "    texture (worst):                      12.02  49.54\n",
      "    perimeter (worst):                    50.41  251.2\n",
      "    area (worst):                         185.2  4254.0\n",
      "    smoothness (worst):                   0.071  0.223\n",
      "    compactness (worst):                  0.027  1.058\n",
      "    concavity (worst):                    0.0    1.252\n",
      "    concave points (worst):               0.0    0.291\n",
      "    symmetry (worst):                     0.156  0.664\n",
      "    fractal dimension (worst):            0.055  0.208\n",
      "    ===================================== ====== ======\n",
      "\n",
      "    :Missing Attribute Values: None\n",
      "\n",
      "    :Class Distribution: 212 - Malignant, 357 - Benign\n",
      "\n",
      "    :Creator:  Dr. William H. Wolberg, W. Nick Street, Olvi L. Mangasarian\n",
      "\n",
      "    :Donor: Nick Street\n",
      "\n",
      "    :Date: November, 1995\n",
      "\n",
      "This is a copy of UCI ML Breast Cancer Wisconsin (Diagnostic) datasets.\n",
      "https://goo.gl/U2Uwz2\n",
      "\n",
      "Features are computed from a digitized image of a fine needle\n",
      "aspirate (FNA) of a breast mass.  They describe\n",
      "characteristics of the cell nuclei present in the image.\n",
      "\n",
      "Separating plane described above was obtained using\n",
      "Multisurface Method-Tree (MSM-T) [K. P. Bennett, \"Decision Tree\n",
      "Construction Via Linear Programming.\" Proceedings of the 4th\n",
      "Midwest Artificial Intelligence and Cognitive Science Society,\n",
      "pp. 97-101, 1992], a classification method which uses linear\n",
      "programming to construct a decision tree.  Relevant features\n",
      "were selected using an exhaustive search in the space of 1-4\n",
      "features and 1-3 separating planes.\n",
      "\n",
      "The actual linear program used to obtain the separating plane\n",
      "in the 3-dimensional space is that described in:\n",
      "[K. P. Bennett and O. L. Mangasarian: \"Robust Linear\n",
      "Programming Discrimination of Two Linearly Inseparable Sets\",\n",
      "Optimization Methods and Software 1, 1992, 23-34].\n",
      "\n",
      "This database is also available through the UW CS ftp server:\n",
      "\n",
      "ftp ftp.cs.wisc.edu\n",
      "cd math-prog/cpo-dataset/machine-learn/WDBC/\n",
      "\n",
      ".. topic:: References\n",
      "\n",
      "   - W.N. Street, W.H. Wolberg and O.L. Mangasarian. Nuclear feature extraction \n",
      "     for breast tumor diagnosis. IS&T/SPIE 1993 International Symposium on \n",
      "     Electronic Imaging: Science and Technology, volume 1905, pages 861-870,\n",
      "     San Jose, CA, 1993.\n",
      "   - O.L. Mangasarian, W.N. Street and W.H. Wolberg. Breast cancer diagnosis and \n",
      "     prognosis via linear programming. Operations Research, 43(4), pages 570-577, \n",
      "     July-August 1995.\n",
      "   - W.H. Wolberg, W.N. Street, and O.L. Mangasarian. Machine learning techniques\n",
      "     to diagnose breast cancer from fine-needle aspirates. Cancer Letters 77 (1994) \n",
      "     163-171.\n"
     ]
    }
   ],
   "execution_count": 2
  },
  {
   "cell_type": "code",
   "metadata": {
    "ExecuteTime": {
     "end_time": "2025-09-22T05:21:54.722495Z",
     "start_time": "2025-09-22T05:21:54.675228Z"
    }
   },
   "source": [
    "b_cancer_df = pd.DataFrame(b_cancer.data, columns=b_cancer.feature_names)\n",
    "# 새 컬럼 추가, 종속 변수인, 암의 진단 여부 컬럼 추가. \n",
    "b_cancer_df[\"diagnosis\"] = b_cancer.target\n",
    "b_cancer_df.head()"
   ],
   "outputs": [
    {
     "data": {
      "text/plain": [
       "   mean radius  mean texture  mean perimeter  mean area  mean smoothness  \\\n",
       "0        17.99         10.38          122.80     1001.0          0.11840   \n",
       "1        20.57         17.77          132.90     1326.0          0.08474   \n",
       "2        19.69         21.25          130.00     1203.0          0.10960   \n",
       "3        11.42         20.38           77.58      386.1          0.14250   \n",
       "4        20.29         14.34          135.10     1297.0          0.10030   \n",
       "\n",
       "   mean compactness  mean concavity  mean concave points  mean symmetry  \\\n",
       "0           0.27760          0.3001              0.14710         0.2419   \n",
       "1           0.07864          0.0869              0.07017         0.1812   \n",
       "2           0.15990          0.1974              0.12790         0.2069   \n",
       "3           0.28390          0.2414              0.10520         0.2597   \n",
       "4           0.13280          0.1980              0.10430         0.1809   \n",
       "\n",
       "   mean fractal dimension  ...  worst texture  worst perimeter  worst area  \\\n",
       "0                 0.07871  ...          17.33           184.60      2019.0   \n",
       "1                 0.05667  ...          23.41           158.80      1956.0   \n",
       "2                 0.05999  ...          25.53           152.50      1709.0   \n",
       "3                 0.09744  ...          26.50            98.87       567.7   \n",
       "4                 0.05883  ...          16.67           152.20      1575.0   \n",
       "\n",
       "   worst smoothness  worst compactness  worst concavity  worst concave points  \\\n",
       "0            0.1622             0.6656           0.7119                0.2654   \n",
       "1            0.1238             0.1866           0.2416                0.1860   \n",
       "2            0.1444             0.4245           0.4504                0.2430   \n",
       "3            0.2098             0.8663           0.6869                0.2575   \n",
       "4            0.1374             0.2050           0.4000                0.1625   \n",
       "\n",
       "   worst symmetry  worst fractal dimension  diagnosis  \n",
       "0          0.4601                  0.11890          0  \n",
       "1          0.2750                  0.08902          0  \n",
       "2          0.3613                  0.08758          0  \n",
       "3          0.6638                  0.17300          0  \n",
       "4          0.2364                  0.07678          0  \n",
       "\n",
       "[5 rows x 31 columns]"
      ],
      "text/html": [
       "<div>\n",
       "<style scoped>\n",
       "    .dataframe tbody tr th:only-of-type {\n",
       "        vertical-align: middle;\n",
       "    }\n",
       "\n",
       "    .dataframe tbody tr th {\n",
       "        vertical-align: top;\n",
       "    }\n",
       "\n",
       "    .dataframe thead th {\n",
       "        text-align: right;\n",
       "    }\n",
       "</style>\n",
       "<table border=\"1\" class=\"dataframe\">\n",
       "  <thead>\n",
       "    <tr style=\"text-align: right;\">\n",
       "      <th></th>\n",
       "      <th>mean radius</th>\n",
       "      <th>mean texture</th>\n",
       "      <th>mean perimeter</th>\n",
       "      <th>mean area</th>\n",
       "      <th>mean smoothness</th>\n",
       "      <th>mean compactness</th>\n",
       "      <th>mean concavity</th>\n",
       "      <th>mean concave points</th>\n",
       "      <th>mean symmetry</th>\n",
       "      <th>mean fractal dimension</th>\n",
       "      <th>...</th>\n",
       "      <th>worst texture</th>\n",
       "      <th>worst perimeter</th>\n",
       "      <th>worst area</th>\n",
       "      <th>worst smoothness</th>\n",
       "      <th>worst compactness</th>\n",
       "      <th>worst concavity</th>\n",
       "      <th>worst concave points</th>\n",
       "      <th>worst symmetry</th>\n",
       "      <th>worst fractal dimension</th>\n",
       "      <th>diagnosis</th>\n",
       "    </tr>\n",
       "  </thead>\n",
       "  <tbody>\n",
       "    <tr>\n",
       "      <th>0</th>\n",
       "      <td>17.99</td>\n",
       "      <td>10.38</td>\n",
       "      <td>122.80</td>\n",
       "      <td>1001.0</td>\n",
       "      <td>0.11840</td>\n",
       "      <td>0.27760</td>\n",
       "      <td>0.3001</td>\n",
       "      <td>0.14710</td>\n",
       "      <td>0.2419</td>\n",
       "      <td>0.07871</td>\n",
       "      <td>...</td>\n",
       "      <td>17.33</td>\n",
       "      <td>184.60</td>\n",
       "      <td>2019.0</td>\n",
       "      <td>0.1622</td>\n",
       "      <td>0.6656</td>\n",
       "      <td>0.7119</td>\n",
       "      <td>0.2654</td>\n",
       "      <td>0.4601</td>\n",
       "      <td>0.11890</td>\n",
       "      <td>0</td>\n",
       "    </tr>\n",
       "    <tr>\n",
       "      <th>1</th>\n",
       "      <td>20.57</td>\n",
       "      <td>17.77</td>\n",
       "      <td>132.90</td>\n",
       "      <td>1326.0</td>\n",
       "      <td>0.08474</td>\n",
       "      <td>0.07864</td>\n",
       "      <td>0.0869</td>\n",
       "      <td>0.07017</td>\n",
       "      <td>0.1812</td>\n",
       "      <td>0.05667</td>\n",
       "      <td>...</td>\n",
       "      <td>23.41</td>\n",
       "      <td>158.80</td>\n",
       "      <td>1956.0</td>\n",
       "      <td>0.1238</td>\n",
       "      <td>0.1866</td>\n",
       "      <td>0.2416</td>\n",
       "      <td>0.1860</td>\n",
       "      <td>0.2750</td>\n",
       "      <td>0.08902</td>\n",
       "      <td>0</td>\n",
       "    </tr>\n",
       "    <tr>\n",
       "      <th>2</th>\n",
       "      <td>19.69</td>\n",
       "      <td>21.25</td>\n",
       "      <td>130.00</td>\n",
       "      <td>1203.0</td>\n",
       "      <td>0.10960</td>\n",
       "      <td>0.15990</td>\n",
       "      <td>0.1974</td>\n",
       "      <td>0.12790</td>\n",
       "      <td>0.2069</td>\n",
       "      <td>0.05999</td>\n",
       "      <td>...</td>\n",
       "      <td>25.53</td>\n",
       "      <td>152.50</td>\n",
       "      <td>1709.0</td>\n",
       "      <td>0.1444</td>\n",
       "      <td>0.4245</td>\n",
       "      <td>0.4504</td>\n",
       "      <td>0.2430</td>\n",
       "      <td>0.3613</td>\n",
       "      <td>0.08758</td>\n",
       "      <td>0</td>\n",
       "    </tr>\n",
       "    <tr>\n",
       "      <th>3</th>\n",
       "      <td>11.42</td>\n",
       "      <td>20.38</td>\n",
       "      <td>77.58</td>\n",
       "      <td>386.1</td>\n",
       "      <td>0.14250</td>\n",
       "      <td>0.28390</td>\n",
       "      <td>0.2414</td>\n",
       "      <td>0.10520</td>\n",
       "      <td>0.2597</td>\n",
       "      <td>0.09744</td>\n",
       "      <td>...</td>\n",
       "      <td>26.50</td>\n",
       "      <td>98.87</td>\n",
       "      <td>567.7</td>\n",
       "      <td>0.2098</td>\n",
       "      <td>0.8663</td>\n",
       "      <td>0.6869</td>\n",
       "      <td>0.2575</td>\n",
       "      <td>0.6638</td>\n",
       "      <td>0.17300</td>\n",
       "      <td>0</td>\n",
       "    </tr>\n",
       "    <tr>\n",
       "      <th>4</th>\n",
       "      <td>20.29</td>\n",
       "      <td>14.34</td>\n",
       "      <td>135.10</td>\n",
       "      <td>1297.0</td>\n",
       "      <td>0.10030</td>\n",
       "      <td>0.13280</td>\n",
       "      <td>0.1980</td>\n",
       "      <td>0.10430</td>\n",
       "      <td>0.1809</td>\n",
       "      <td>0.05883</td>\n",
       "      <td>...</td>\n",
       "      <td>16.67</td>\n",
       "      <td>152.20</td>\n",
       "      <td>1575.0</td>\n",
       "      <td>0.1374</td>\n",
       "      <td>0.2050</td>\n",
       "      <td>0.4000</td>\n",
       "      <td>0.1625</td>\n",
       "      <td>0.2364</td>\n",
       "      <td>0.07678</td>\n",
       "      <td>0</td>\n",
       "    </tr>\n",
       "  </tbody>\n",
       "</table>\n",
       "<p>5 rows × 31 columns</p>\n",
       "</div>"
      ]
     },
     "execution_count": 3,
     "metadata": {},
     "output_type": "execute_result"
    }
   ],
   "execution_count": 3
  },
  {
   "cell_type": "code",
   "metadata": {
    "ExecuteTime": {
     "end_time": "2025-09-22T05:21:54.819704Z",
     "start_time": "2025-09-22T05:21:54.804071Z"
    }
   },
   "source": [
    "# 데이터의 갯수 파악 \n",
    "print(f\"샘플 데이터의 크기 조회 : {b_cancer_df.shape}\")"
   ],
   "outputs": [
    {
     "name": "stdout",
     "output_type": "stream",
     "text": [
      "샘플 데이터의 크기 조회 : (569, 31)\n"
     ]
    }
   ],
   "execution_count": 4
  },
  {
   "cell_type": "code",
   "metadata": {
    "ExecuteTime": {
     "end_time": "2025-09-22T05:21:54.950330Z",
     "start_time": "2025-09-22T05:21:54.921681Z"
    }
   },
   "source": [
    "# 기본 데이터의 속성 조회. diagnosis . 1 : 악성, 0 : 양성\n",
    "b_cancer_df.info()"
   ],
   "outputs": [
    {
     "name": "stdout",
     "output_type": "stream",
     "text": [
      "<class 'pandas.core.frame.DataFrame'>\n",
      "RangeIndex: 569 entries, 0 to 568\n",
      "Data columns (total 31 columns):\n",
      " #   Column                   Non-Null Count  Dtype  \n",
      "---  ------                   --------------  -----  \n",
      " 0   mean radius              569 non-null    float64\n",
      " 1   mean texture             569 non-null    float64\n",
      " 2   mean perimeter           569 non-null    float64\n",
      " 3   mean area                569 non-null    float64\n",
      " 4   mean smoothness          569 non-null    float64\n",
      " 5   mean compactness         569 non-null    float64\n",
      " 6   mean concavity           569 non-null    float64\n",
      " 7   mean concave points      569 non-null    float64\n",
      " 8   mean symmetry            569 non-null    float64\n",
      " 9   mean fractal dimension   569 non-null    float64\n",
      " 10  radius error             569 non-null    float64\n",
      " 11  texture error            569 non-null    float64\n",
      " 12  perimeter error          569 non-null    float64\n",
      " 13  area error               569 non-null    float64\n",
      " 14  smoothness error         569 non-null    float64\n",
      " 15  compactness error        569 non-null    float64\n",
      " 16  concavity error          569 non-null    float64\n",
      " 17  concave points error     569 non-null    float64\n",
      " 18  symmetry error           569 non-null    float64\n",
      " 19  fractal dimension error  569 non-null    float64\n",
      " 20  worst radius             569 non-null    float64\n",
      " 21  worst texture            569 non-null    float64\n",
      " 22  worst perimeter          569 non-null    float64\n",
      " 23  worst area               569 non-null    float64\n",
      " 24  worst smoothness         569 non-null    float64\n",
      " 25  worst compactness        569 non-null    float64\n",
      " 26  worst concavity          569 non-null    float64\n",
      " 27  worst concave points     569 non-null    float64\n",
      " 28  worst symmetry           569 non-null    float64\n",
      " 29  worst fractal dimension  569 non-null    float64\n",
      " 30  diagnosis                569 non-null    int32  \n",
      "dtypes: float64(30), int32(1)\n",
      "memory usage: 135.7 KB\n"
     ]
    }
   ],
   "execution_count": 5
  },
  {
   "metadata": {
    "ExecuteTime": {
     "end_time": "2025-09-22T05:21:55.094433Z",
     "start_time": "2025-09-22T05:21:55.078803Z"
    }
   },
   "cell_type": "code",
   "source": [
    "# 로지스틱 회귀 분석에 피처로 사용할 데이터를 평균 : 0, 분산 : 1\n",
    "# 정규 분포 형태로 변환 -> 사이킷런에서 제공해주는 함수를 이용함.\n",
    "# 변환을 하는 이유, 데이터의 동일성, 분석을 효율적으로 하기 위해서.\n",
    "\n",
    "# 정규화를 하는 이유.\n",
    "# 1) 서로 다른 스케일 가진 변수들을 , 동일한 척도로 맞춰서 작업을 해야 정확성 높아짐.\n",
    "# 2) 알고리즘의 성능 향상\n",
    "# 3) 이상치의 영향 감소\n",
    "# 4) 튜닝시 사용이되는 방법중 하나가, 경사하강방법이 있는데, 수렴 속도를 빠르게 해줘서,\n",
    "# 전체적인 성능이 좋아짐."
   ],
   "outputs": [],
   "execution_count": 6
  },
  {
   "cell_type": "code",
   "metadata": {
    "ExecuteTime": {
     "end_time": "2025-09-22T05:21:55.125582Z",
     "start_time": "2025-09-22T05:21:55.110063Z"
    }
   },
   "source": [
    "\n",
    "\n",
    "# 사이킷런에서 제공해주는 정규화를 해주는 도구.\n",
    "from sklearn.preprocessing import StandardScaler\n",
    "scaler = StandardScaler()\n",
    "\n",
    "# scaler 도구를 이용해서, 유방암 샘플 데이터를 정규화 작업.\n",
    "# 정규화 -> Z = X - X'(평균) / 표준편차\n",
    "b_cancer_scaled = scaler.fit_transform(b_cancer.data)\n",
    "print(f\"샘플데이터 정규화 전  b_cancer.data[0] 결과 확인 : {b_cancer.data[0]}\")\n",
    "print(f\"샘플데이터 정규화 후  b_cancer_scaled[0] 결과 확인 : {b_cancer_scaled[0]}\")"
   ],
   "outputs": [
    {
     "name": "stdout",
     "output_type": "stream",
     "text": [
      "샘플데이터 정규화 전  b_cancer.data[0] 결과 확인 : [1.799e+01 1.038e+01 1.228e+02 1.001e+03 1.184e-01 2.776e-01 3.001e-01\n",
      " 1.471e-01 2.419e-01 7.871e-02 1.095e+00 9.053e-01 8.589e+00 1.534e+02\n",
      " 6.399e-03 4.904e-02 5.373e-02 1.587e-02 3.003e-02 6.193e-03 2.538e+01\n",
      " 1.733e+01 1.846e+02 2.019e+03 1.622e-01 6.656e-01 7.119e-01 2.654e-01\n",
      " 4.601e-01 1.189e-01]\n",
      "샘플데이터 정규화 후  b_cancer_scaled[0] 결과 확인 : [ 1.09706398 -2.07333501  1.26993369  0.9843749   1.56846633  3.28351467\n",
      "  2.65287398  2.53247522  2.21751501  2.25574689  2.48973393 -0.56526506\n",
      "  2.83303087  2.48757756 -0.21400165  1.31686157  0.72402616  0.66081994\n",
      "  1.14875667  0.90708308  1.88668963 -1.35929347  2.30360062  2.00123749\n",
      "  1.30768627  2.61666502  2.10952635  2.29607613  2.75062224  1.93701461]\n"
     ]
    }
   ],
   "execution_count": 7
  },
  {
   "cell_type": "code",
   "metadata": {
    "ExecuteTime": {
     "end_time": "2025-09-22T05:21:55.203516Z",
     "start_time": "2025-09-22T05:21:55.131461Z"
    }
   },
   "source": [
    "# 사이킷런에서 제공하는 모델 불러와서 -> 학습 -> 학습된 모델이용해서 예측값 출력 -> 실제값과 비교분석.\n",
    "\n",
    "# 로지스틱 회귀 분석 도구 사용\n",
    "from sklearn.linear_model import LogisticRegression\n",
    "# 훈련, 평가 데이터를 분리 \n",
    "from sklearn.model_selection import train_test_split\n",
    "\n",
    "# 독립 변수, 종속 변수(\"diagnosis\") 분리 \n",
    "Y = b_cancer_df[\"diagnosis\"]\n",
    "# 정규화가 된 샘플 데이터들임. \n",
    "X = b_cancer_scaled"
   ],
   "outputs": [],
   "execution_count": 8
  },
  {
   "cell_type": "code",
   "metadata": {
    "ExecuteTime": {
     "end_time": "2025-09-22T05:21:55.221036Z",
     "start_time": "2025-09-22T05:21:55.205400Z"
    }
   },
   "source": [
    "# 훈련용, 평가용 데이터 분리 , 7:3 비율\n",
    "# random_state=0, 랜덤 시드 고정 한다.\n",
    "# 데이터를 나눌 때 무작위로 섞게 되는데,\n",
    "# 이때 항상 동일한 방식으로 섞이도록 난수 생성의 기준점(seed)을 정해주는 것입니다.\n",
    "# 여러 번 실행해도 항상 똑같은 훈련/시험 데이터가 만들어집니다\n",
    "X_train, X_test, Y_train , Y_test = train_test_split(X,Y, test_size=0.3, random_state=0)"
   ],
   "outputs": [],
   "execution_count": 9
  },
  {
   "cell_type": "code",
   "metadata": {
    "ExecuteTime": {
     "end_time": "2025-09-22T05:21:55.242742Z",
     "start_time": "2025-09-22T05:21:55.226879Z"
    }
   },
   "source": [
    "print(f\"X_train : {X_train.shape},X_test : {X_test.shape},Y_train : {Y_train.shape},Y_test : {Y_test.shape}\")"
   ],
   "outputs": [
    {
     "name": "stdout",
     "output_type": "stream",
     "text": [
      "X_train : (398, 30),X_test : (171, 30),Y_train : (398,),Y_test : (171,)\n"
     ]
    }
   ],
   "execution_count": 10
  },
  {
   "cell_type": "code",
   "metadata": {
    "ExecuteTime": {
     "end_time": "2025-09-22T05:21:55.274782Z",
     "start_time": "2025-09-22T05:21:55.243532Z"
    }
   },
   "source": [
    "# 모델 생성 \n",
    "lr_b_cancer = LogisticRegression()"
   ],
   "outputs": [],
   "execution_count": 11
  },
  {
   "cell_type": "code",
   "metadata": {
    "ExecuteTime": {
     "end_time": "2025-09-22T05:21:55.312494Z",
     "start_time": "2025-09-22T05:21:55.280653Z"
    }
   },
   "source": [
    "# 해당 모델 학습 시키기 \n",
    "lr_b_cancer.fit(X_train, Y_train)"
   ],
   "outputs": [
    {
     "data": {
      "text/plain": [
       "LogisticRegression()"
      ]
     },
     "execution_count": 12,
     "metadata": {},
     "output_type": "execute_result"
    }
   ],
   "execution_count": 12
  },
  {
   "cell_type": "code",
   "metadata": {
    "ExecuteTime": {
     "end_time": "2025-09-22T05:21:55.334374Z",
     "start_time": "2025-09-22T05:21:55.318539Z"
    }
   },
   "source": [
    "# 학습이 된 모델을 이용해서, 예측값 출력 해보기. - 평가해보기. \n",
    "y_predict = lr_b_cancer.predict(X_test)"
   ],
   "outputs": [],
   "execution_count": 13
  },
  {
   "cell_type": "code",
   "metadata": {
    "ExecuteTime": {
     "end_time": "2025-09-22T05:21:55.356226Z",
     "start_time": "2025-09-22T05:21:55.340596Z"
    }
   },
   "source": [
    "# 평가 분석 지표 \n",
    "# MSE : 오류의 제곱 평균\n",
    "# R^2 Score :  예측값 / 실제값 나눈비율 \n",
    "#Y_test : 답지, y_predict : 상용이가 학습해서, 시험친 결과 \n",
    "from sklearn.metrics import mean_squared_error, r2_score\n",
    "mse = mean_squared_error(Y_test, y_predict)\n",
    "# 4 -> 루트 4 -> 2, 값을 통일 시켰다. 나중에, 스케일링을 많이 함, 정규화등으로 고쳐야, \n",
    "# 통계시, 효율적으로 작업이 진행되므로, 그래서, 이런 작업을 많이 함. \n",
    "rmse = np.sqrt(mse)\n",
    "\n",
    "r2_value = r2_score(Y_test,y_predict)\n",
    "\n",
    "print(f\"mse : {mse}, rmse : {rmse} ,r2_value : {r2_value}\")"
   ],
   "outputs": [
    {
     "name": "stdout",
     "output_type": "stream",
     "text": [
      "mse : 0.023391812865497075, rmse : 0.1529438225803745 ,r2_value : 0.8994708994708995\n"
     ]
    }
   ],
   "execution_count": 14
  },
  {
   "cell_type": "code",
   "metadata": {
    "ExecuteTime": {
     "end_time": "2025-09-22T05:21:55.388378Z",
     "start_time": "2025-09-22T05:21:55.374356Z"
    }
   },
   "source": [
    "# 오차 행렬을 이용해서, 분석의 비교 지표값을 , 정밀도, 재현율, F1 스코어, ROC 의 AUC 스코어 등을 이용해서 \n",
    "from sklearn.metrics import confusion_matrix, accuracy_score\n",
    "from sklearn.metrics import precision_score, recall_score, f1_score, roc_auc_score"
   ],
   "outputs": [],
   "execution_count": 15
  },
  {
   "cell_type": "code",
   "metadata": {
    "ExecuteTime": {
     "end_time": "2025-09-22T05:21:55.418094Z",
     "start_time": "2025-09-22T05:21:55.399094Z"
    }
   },
   "source": [
    "# 오차 행렬 만들기. 행은(실제값:Y_test), 열(예측값:y_predict)\n",
    "# 열(예측값:y_predict) , Negative , Positive\n",
    "# 행 실제값:Y_test) Ne,  TN         FP\n",
    "# 행 실제값:Y_test) Po   FN         TP\n",
    "confusion_matrix(Y_test, y_predict)"
   ],
   "outputs": [
    {
     "data": {
      "text/plain": [
       "array([[ 60,   3],\n",
       "       [  1, 107]], dtype=int64)"
      ]
     },
     "execution_count": 16,
     "metadata": {},
     "output_type": "execute_result"
    }
   ],
   "execution_count": 16
  },
  {
   "cell_type": "markdown",
   "metadata": {},
   "source": [
    "### 정확도 = 바르게 예측하는 모든 수 (TN + TP) / 전체 데이터 수 (TN + FP + FN + TP)\n",
    "### 정밀도 = 참인 것의 수 (TP) / 예측이 긍정인것(FP + TP)\n",
    "### -> Positive 예측 성능을 더 정밀하게 평가하는 지표, \n",
    "### -> 사이킷런에 함수로 제공 : precision_score\n",
    "\n",
    "\n",
    "### ex) 암 환자 진단할 때, 정확도 중요한가요?, 정밀도 중요한가요? , 정밀도가 더 중요함. \n",
    "### 암이냐?, 아니냐?  -> 정밀도, \n",
    "\n",
    "### 재현율 = 참인 것의 수 (TP) / 실제값 이 긍정인것 중에서 (FN + TP)\n",
    "### -> 실제 Positive 인 데이터를 정확히 예측하는 평가 지표. 민감도라고하고, TPR(True Positive Rate)\n",
    "### -> 사이킷런에 함수로 제공 : recall_score\n",
    "\n",
    "### F1 스코어 : 정밀도와 재현율을 결합한 평가지표, 상충관계 문제점을 고려해서 , 정확한 평가에 사용이됨. \n",
    "### F1 스코어 = 2 x (정밀도 x 재현율)/(정밀도 + 재현율)\n",
    "\n",
    "### ROC 기반 AUC 스코어 \n",
    "### ROC 기반 AUC 스코어 = TPR / FPR\n",
    "### FPR(False Positive Rate)  = 거짓인 것의 수 (FP) / 실제값 이 거짓인것 중에서 (TN + FP)"
   ]
  },
  {
   "cell_type": "code",
   "metadata": {
    "ExecuteTime": {
     "end_time": "2025-09-22T05:21:55.445763Z",
     "start_time": "2025-09-22T05:21:55.430134Z"
    }
   },
   "source": [
    "# 정확도\n",
    "accuracy = accuracy_score(Y_test, y_predict)\n",
    "print(f\"accuracy(정확도) 의 값 : {accuracy}\")\n",
    "\n",
    "# 정밀도 \n",
    "precision = precision_score(Y_test, y_predict)\n",
    "print(f\"precision(정밀도) 의 값 : {precision}\")\n",
    "\n",
    "# 재현율\n",
    "recall = recall_score(Y_test, y_predict)\n",
    "print(f\"recall(재현율) 의 값 : {recall}\")\n",
    "\n",
    "# F1 스코어\n",
    "f1 = f1_score(Y_test, y_predict)\n",
    "print(f\"f1(F1 스코어) 의 값 : {f1}\")\n",
    "\n",
    "# ROC_AUC 스코어 \n",
    "roc_auc = roc_auc_score(Y_test, y_predict)\n",
    "print(f\"roc_auc(ROC_AUC 스코어 ) 의 값 : {roc_auc}\")"
   ],
   "outputs": [
    {
     "name": "stdout",
     "output_type": "stream",
     "text": [
      "accuracy(정확도) 의 값 : 0.9766081871345029\n",
      "precision(정밀도) 의 값 : 0.9727272727272728\n",
      "recall(재현율) 의 값 : 0.9907407407407407\n",
      "f1(F1 스코어) 의 값 : 0.981651376146789\n",
      "roc_auc(ROC_AUC 스코어 ) 의 값 : 0.9715608465608465\n"
     ]
    }
   ],
   "execution_count": 17
  },
  {
   "cell_type": "code",
   "metadata": {
    "ExecuteTime": {
     "end_time": "2025-09-22T05:21:55.525522Z",
     "start_time": "2025-09-22T05:21:55.514459Z"
    }
   },
   "source": [
    "# 소숫점 3자리 까지 \n",
    "print(\"정확도 : {0:.3f}, 정밀도 : {1:.3f}, 재현율 : {2:.3f}, F1 스코어 : {3:.3f},F1 스코어 : {4:.3f}\".format(accuracy,precision,recall,f1,roc_auc))"
   ],
   "outputs": [
    {
     "name": "stdout",
     "output_type": "stream",
     "text": [
      "정확도 : 0.977, 정밀도 : 0.973, 재현율 : 0.991, F1 스코어 : 0.982,F1 스코어 : 0.972\n"
     ]
    }
   ],
   "execution_count": 18
  },
  {
   "metadata": {
    "ExecuteTime": {
     "end_time": "2025-09-22T05:21:55.678089Z",
     "start_time": "2025-09-22T05:21:55.667090Z"
    }
   },
   "cell_type": "code",
   "source": "",
   "outputs": [],
   "execution_count": null
  }
 ],
 "metadata": {
  "kernelspec": {
   "display_name": "Python 3",
   "language": "python",
   "name": "python3"
  },
  "language_info": {
   "codemirror_mode": {
    "name": "ipython",
    "version": 3
   },
   "file_extension": ".py",
   "mimetype": "text/x-python",
   "name": "python",
   "nbconvert_exporter": "python",
   "pygments_lexer": "ipython3",
   "version": "3.10.7"
  }
 },
 "nbformat": 4,
 "nbformat_minor": 2
}
