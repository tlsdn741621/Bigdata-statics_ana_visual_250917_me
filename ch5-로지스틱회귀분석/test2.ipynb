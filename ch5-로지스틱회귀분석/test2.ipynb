{
 "cells": [
  {
   "cell_type": "markdown",
   "metadata": {},
   "source": [
    "## 결정 트리 분석 , 시각화 산점도, 선형 회귀 그래프 이용할 예정.\n",
    "### 결정 트리 시각화 (다른 프로그램을 설치해야함. )\n",
    "### 샘플 데이터, 센서 데이터의 움직임 수집한 데이터. \n",
    "### UCI 대학의 연구원들이 몸에 센서달고, 몇일 간 생활을해서, \n",
    "### 움직임을 판단 -> 서있기, 앉기, 눕기, 계단 오르기 등. "
   ]
  },
  {
   "cell_type": "markdown",
   "metadata": {},
   "source": [
    "## 용어정리\n",
    "### 결정 트리 : 머신러닝 알고리즘 중에 하나이고, 다중 분류를 하는데 사용을 많이 함.\n",
    "### 스스로 데이터 안에 특정 규칙을 찾아서 학습하고, 트리 구조 분류 규칙을 만든다. \n",
    "### 규칙 노드, 리프노드(결정노드) \n",
    "### 예) 날개가 있나요? : 규칙노드 \n",
    "###      /True        \\False\n",
    "### 날수있니?    털이 있니? : 규칙 노드 \n",
    "###   /T     \\ F     /T     \\F\n",
    "### 참새   펭귄    다람쥐  개구리 : 결정 노드 \n",
    "\n",
    "### 정보이득지수 : 엔트로피(entropy) 개념을 기반으로함.\n",
    "### 엔트로피 : 데이터 집합의 혼잡도를 의미. \n",
    "### 예) 데이터에 다른 데이터가 섞여서 균일도가 떨어지면 -> 혼잡도가 높다 -> 엔트로피 높다. \n",
    "### 정보이득지수 = 1 - 엔트로피 \n",
    "### 엔트로피 높다 -> 정보이득지수 낮다. -> 데이터가 순수하지 않다. (다른 데이터들이 섞여 있다.)\n",
    "### 엔트로피 낮다 -> 정보이득지수 높다. -> 데이터가 균일도가 높다. -> (다른 데이터들이 많이 섞여 있지 않다..)\n",
    "\n",
    "### 지니계수 : 경제학 용어이고, 소득의 불균형의 정도를 나타 낼 때 사용했고, 우리는 데이터의 순도\n",
    "### 지니계수 높다 -> 순도가 낮은 데이터의 집합 -> 균일도 낮다 -> 엔트로피 높다 -> 다른 데이터들이 섞여 있다.\n",
    "\n",
    "\n",
    "### 사이킷런에서 제공하는 결정 트리 분류 모델의 매개변수 \n",
    "### min_samples_split : 노드를 분할하기 위한 최소 샘플 데이터 갯수 (기본값: 2)\n",
    "### min_samples_leaf : 리프 노드가 되기 위한 최소 샘플 데이터 갯수 \n",
    "### max_features : 최적의 분할을 하기위 한 고려해야할 최대 피처 갯수 (예, 독립변수 ) \n",
    "### None : 모든 피쳐 사용 , int : 사용할 피쳐의 갯수, float : 사용할 피처 개수를 퍼센트 \n",
    "### sqrt : 루트 계산. \n",
    "\n",
    "### max_depth : 트리의 최대 깊이 \n",
    "### max_leaf_nodes : 리프노드(결정 노드 ) 에 들어가는 샘플의 최대 데이터 갯수. \n",
    "\n",
    "### Graphviz 패키지 : 결정 트리를 시각화 하는 도구. "
   ]
  },
  {
   "cell_type": "markdown",
   "metadata": {},
   "source": [
    "### 샘플 데이터 소개: README.txt 상세히 설명이 나옴. \n",
    "### 요약 : 30명의 연구원이 데이터 수집에 참여했고, 삼성 갤럭시 s2 을 착용하고, 6가지 움직임을 실험.\n",
    "### 워킹, 계단 오르기, 계단 내리기, 눕기, 서있기, 앉기 등 \n",
    "### 움직임은 가속계, 자이로스코프 를 이용해서, XYZ 3축에 대한 데이터를 수집. \n"
   ]
  },
  {
   "cell_type": "code",
   "metadata": {
    "ExecuteTime": {
     "end_time": "2025-09-22T06:06:54.075074Z",
     "start_time": "2025-09-22T06:06:54.059518Z"
    }
   },
   "source": [
    "# 샘플 데이터 받아서, 정리해보기.\n",
    "import numpy as np \n",
    "import pandas as pd \n",
    "pd.__version__"
   ],
   "outputs": [
    {
     "data": {
      "text/plain": [
       "'2.3.2'"
      ]
     },
     "execution_count": 1,
     "metadata": {},
     "output_type": "execute_result"
    }
   ],
   "execution_count": 1
  },
  {
   "cell_type": "code",
   "metadata": {
    "ExecuteTime": {
     "end_time": "2025-09-22T06:06:58.934027Z",
     "start_time": "2025-09-22T06:06:58.902774Z"
    }
   },
   "source": [
    "# 피처 이름 읽기\n",
    "# sep=\"\\s+\" -> 하나 이상의 공백을 의미\n",
    "# header=None -> 처음 부터 실제값을 사용하겠다라는 의미. \n",
    "feature_name_df = pd.read_csv(\"./UCI HAR Dataset/features.txt\", sep=\"\\s+\", header=None, names=[\"index\",\"feature_name\"], engine=\"python\")\n",
    "feature_name_df.head()"
   ],
   "outputs": [
    {
     "data": {
      "text/plain": [
       "   index       feature_name\n",
       "0      1  tBodyAcc-mean()-X\n",
       "1      2  tBodyAcc-mean()-Y\n",
       "2      3  tBodyAcc-mean()-Z\n",
       "3      4   tBodyAcc-std()-X\n",
       "4      5   tBodyAcc-std()-Y"
      ],
      "text/html": [
       "<div>\n",
       "<style scoped>\n",
       "    .dataframe tbody tr th:only-of-type {\n",
       "        vertical-align: middle;\n",
       "    }\n",
       "\n",
       "    .dataframe tbody tr th {\n",
       "        vertical-align: top;\n",
       "    }\n",
       "\n",
       "    .dataframe thead th {\n",
       "        text-align: right;\n",
       "    }\n",
       "</style>\n",
       "<table border=\"1\" class=\"dataframe\">\n",
       "  <thead>\n",
       "    <tr style=\"text-align: right;\">\n",
       "      <th></th>\n",
       "      <th>index</th>\n",
       "      <th>feature_name</th>\n",
       "    </tr>\n",
       "  </thead>\n",
       "  <tbody>\n",
       "    <tr>\n",
       "      <th>0</th>\n",
       "      <td>1</td>\n",
       "      <td>tBodyAcc-mean()-X</td>\n",
       "    </tr>\n",
       "    <tr>\n",
       "      <th>1</th>\n",
       "      <td>2</td>\n",
       "      <td>tBodyAcc-mean()-Y</td>\n",
       "    </tr>\n",
       "    <tr>\n",
       "      <th>2</th>\n",
       "      <td>3</td>\n",
       "      <td>tBodyAcc-mean()-Z</td>\n",
       "    </tr>\n",
       "    <tr>\n",
       "      <th>3</th>\n",
       "      <td>4</td>\n",
       "      <td>tBodyAcc-std()-X</td>\n",
       "    </tr>\n",
       "    <tr>\n",
       "      <th>4</th>\n",
       "      <td>5</td>\n",
       "      <td>tBodyAcc-std()-Y</td>\n",
       "    </tr>\n",
       "  </tbody>\n",
       "</table>\n",
       "</div>"
      ]
     },
     "execution_count": 2,
     "metadata": {},
     "output_type": "execute_result"
    }
   ],
   "execution_count": 2
  },
  {
   "cell_type": "code",
   "metadata": {
    "ExecuteTime": {
     "end_time": "2025-09-22T06:12:11.026596Z",
     "start_time": "2025-09-22T06:12:10.995337Z"
    }
   },
   "source": [
    "# 데이터 갯수 조회 \n",
    "feature_name_df.shape"
   ],
   "outputs": [
    {
     "data": {
      "text/plain": [
       "(561, 2)"
      ]
     },
     "execution_count": 3,
     "metadata": {},
     "output_type": "execute_result"
    }
   ],
   "execution_count": 3
  },
  {
   "cell_type": "code",
   "metadata": {
    "ExecuteTime": {
     "end_time": "2025-09-22T06:12:12.718595Z",
     "start_time": "2025-09-22T06:12:12.692448Z"
    }
   },
   "source": [
    "# 해당 피쳐 이름만 추출해보기. \n",
    "feature_name = feature_name_df.iloc[:,1].values.tolist()\n",
    "# head() 함수와 동일한 기능.\n",
    "feature_name[:5]"
   ],
   "outputs": [
    {
     "data": {
      "text/plain": [
       "['tBodyAcc-mean()-X',\n",
       " 'tBodyAcc-mean()-Y',\n",
       " 'tBodyAcc-mean()-Z',\n",
       " 'tBodyAcc-std()-X',\n",
       " 'tBodyAcc-std()-Y']"
      ]
     },
     "execution_count": 4,
     "metadata": {},
     "output_type": "execute_result"
    }
   ],
   "execution_count": 4
  },
  {
   "cell_type": "code",
   "metadata": {
    "ExecuteTime": {
     "end_time": "2025-09-22T06:12:17.456990Z",
     "start_time": "2025-09-22T06:12:14.079430Z"
    }
   },
   "source": [
    "# 샘플 데이터의 학습용 데이터, 평가용 데이터를 , 로드해서, 메모리상에 불러오기. \n",
    "X_train = pd.read_csv(\"./UCI HAR Dataset/train/X_train.txt\",sep=\"\\s+\", header=None, engine=\"python\")\n",
    "X_train.shape"
   ],
   "outputs": [
    {
     "data": {
      "text/plain": [
       "(7352, 561)"
      ]
     },
     "execution_count": 5,
     "metadata": {},
     "output_type": "execute_result"
    }
   ],
   "execution_count": 5
  },
  {
   "cell_type": "code",
   "metadata": {
    "ExecuteTime": {
     "end_time": "2025-09-22T06:12:18.719247Z",
     "start_time": "2025-09-22T06:12:18.695643Z"
    }
   },
   "source": [
    "# 샘플 데이터의 학습용 데이터, 평가용 데이터를 , 로드해서, 메모리상에 불러오기. \n",
    "Y_train = pd.read_csv(\"./UCI HAR Dataset/train/y_train.txt\",sep=\"\\s+\", header=None, names=[\"action\"],engine=\"python\")\n",
    "Y_train.shape"
   ],
   "outputs": [
    {
     "data": {
      "text/plain": [
       "(7352, 1)"
      ]
     },
     "execution_count": 6,
     "metadata": {},
     "output_type": "execute_result"
    }
   ],
   "execution_count": 6
  },
  {
   "cell_type": "code",
   "metadata": {
    "ExecuteTime": {
     "end_time": "2025-09-22T06:12:21.779682Z",
     "start_time": "2025-09-22T06:12:20.367420Z"
    }
   },
   "source": [
    "# 샘플 데이터의 학습용 데이터, 평가용 데이터를 , 로드해서, 메모리상에 불러오기. \n",
    "X_test = pd.read_csv(\"./UCI HAR Dataset/test/X_test.txt\",sep=\"\\s+\", header=None, engine=\"python\")\n",
    "X_test.shape"
   ],
   "outputs": [
    {
     "data": {
      "text/plain": [
       "(2947, 561)"
      ]
     },
     "execution_count": 7,
     "metadata": {},
     "output_type": "execute_result"
    }
   ],
   "execution_count": 7
  },
  {
   "cell_type": "code",
   "metadata": {
    "ExecuteTime": {
     "end_time": "2025-09-22T06:12:23.357086Z",
     "start_time": "2025-09-22T06:12:23.342222Z"
    }
   },
   "source": [
    "Y_test = pd.read_csv(\"./UCI HAR Dataset/test/y_test.txt\",sep=\"\\s+\", header=None,names=[\"action\"], engine=\"python\")\n",
    "Y_test.shape"
   ],
   "outputs": [
    {
     "data": {
      "text/plain": [
       "(2947, 1)"
      ]
     },
     "execution_count": 8,
     "metadata": {},
     "output_type": "execute_result"
    }
   ],
   "execution_count": 8
  },
  {
   "cell_type": "code",
   "metadata": {
    "ExecuteTime": {
     "end_time": "2025-09-22T06:12:24.874998Z",
     "start_time": "2025-09-22T06:12:24.850151Z"
    }
   },
   "source": [
    "# train, test 의 컬럼 달기. \n",
    "X_train.columns = feature_name\n",
    "X_test.columns = feature_name\n"
   ],
   "outputs": [],
   "execution_count": 9
  },
  {
   "cell_type": "code",
   "metadata": {
    "ExecuteTime": {
     "end_time": "2025-09-22T06:12:26.235978Z",
     "start_time": "2025-09-22T06:12:26.195203Z"
    }
   },
   "source": [
    "# X_train , 상위 5개 조회 \n",
    "X_train.head()"
   ],
   "outputs": [
    {
     "data": {
      "text/plain": [
       "   tBodyAcc-mean()-X  tBodyAcc-mean()-Y  tBodyAcc-mean()-Z  tBodyAcc-std()-X  \\\n",
       "0           0.288585          -0.020294          -0.132905         -0.995279   \n",
       "1           0.278419          -0.016411          -0.123520         -0.998245   \n",
       "2           0.279653          -0.019467          -0.113462         -0.995380   \n",
       "3           0.279174          -0.026201          -0.123283         -0.996091   \n",
       "4           0.276629          -0.016570          -0.115362         -0.998139   \n",
       "\n",
       "   tBodyAcc-std()-Y  tBodyAcc-std()-Z  tBodyAcc-mad()-X  tBodyAcc-mad()-Y  \\\n",
       "0         -0.983111         -0.913526         -0.995112         -0.983185   \n",
       "1         -0.975300         -0.960322         -0.998807         -0.974914   \n",
       "2         -0.967187         -0.978944         -0.996520         -0.963668   \n",
       "3         -0.983403         -0.990675         -0.997099         -0.982750   \n",
       "4         -0.980817         -0.990482         -0.998321         -0.979672   \n",
       "\n",
       "   tBodyAcc-mad()-Z  tBodyAcc-max()-X  ...  fBodyBodyGyroJerkMag-meanFreq()  \\\n",
       "0         -0.923527         -0.934724  ...                        -0.074323   \n",
       "1         -0.957686         -0.943068  ...                         0.158075   \n",
       "2         -0.977469         -0.938692  ...                         0.414503   \n",
       "3         -0.989302         -0.938692  ...                         0.404573   \n",
       "4         -0.990441         -0.942469  ...                         0.087753   \n",
       "\n",
       "   fBodyBodyGyroJerkMag-skewness()  fBodyBodyGyroJerkMag-kurtosis()  \\\n",
       "0                        -0.298676                        -0.710304   \n",
       "1                        -0.595051                        -0.861499   \n",
       "2                        -0.390748                        -0.760104   \n",
       "3                        -0.117290                        -0.482845   \n",
       "4                        -0.351471                        -0.699205   \n",
       "\n",
       "   angle(tBodyAccMean,gravity)  angle(tBodyAccJerkMean),gravityMean)  \\\n",
       "0                    -0.112754                              0.030400   \n",
       "1                     0.053477                             -0.007435   \n",
       "2                    -0.118559                              0.177899   \n",
       "3                    -0.036788                             -0.012892   \n",
       "4                     0.123320                              0.122542   \n",
       "\n",
       "   angle(tBodyGyroMean,gravityMean)  angle(tBodyGyroJerkMean,gravityMean)  \\\n",
       "0                         -0.464761                             -0.018446   \n",
       "1                         -0.732626                              0.703511   \n",
       "2                          0.100699                              0.808529   \n",
       "3                          0.640011                             -0.485366   \n",
       "4                          0.693578                             -0.615971   \n",
       "\n",
       "   angle(X,gravityMean)  angle(Y,gravityMean)  angle(Z,gravityMean)  \n",
       "0             -0.841247              0.179941             -0.058627  \n",
       "1             -0.844788              0.180289             -0.054317  \n",
       "2             -0.848933              0.180637             -0.049118  \n",
       "3             -0.848649              0.181935             -0.047663  \n",
       "4             -0.847865              0.185151             -0.043892  \n",
       "\n",
       "[5 rows x 561 columns]"
      ],
      "text/html": [
       "<div>\n",
       "<style scoped>\n",
       "    .dataframe tbody tr th:only-of-type {\n",
       "        vertical-align: middle;\n",
       "    }\n",
       "\n",
       "    .dataframe tbody tr th {\n",
       "        vertical-align: top;\n",
       "    }\n",
       "\n",
       "    .dataframe thead th {\n",
       "        text-align: right;\n",
       "    }\n",
       "</style>\n",
       "<table border=\"1\" class=\"dataframe\">\n",
       "  <thead>\n",
       "    <tr style=\"text-align: right;\">\n",
       "      <th></th>\n",
       "      <th>tBodyAcc-mean()-X</th>\n",
       "      <th>tBodyAcc-mean()-Y</th>\n",
       "      <th>tBodyAcc-mean()-Z</th>\n",
       "      <th>tBodyAcc-std()-X</th>\n",
       "      <th>tBodyAcc-std()-Y</th>\n",
       "      <th>tBodyAcc-std()-Z</th>\n",
       "      <th>tBodyAcc-mad()-X</th>\n",
       "      <th>tBodyAcc-mad()-Y</th>\n",
       "      <th>tBodyAcc-mad()-Z</th>\n",
       "      <th>tBodyAcc-max()-X</th>\n",
       "      <th>...</th>\n",
       "      <th>fBodyBodyGyroJerkMag-meanFreq()</th>\n",
       "      <th>fBodyBodyGyroJerkMag-skewness()</th>\n",
       "      <th>fBodyBodyGyroJerkMag-kurtosis()</th>\n",
       "      <th>angle(tBodyAccMean,gravity)</th>\n",
       "      <th>angle(tBodyAccJerkMean),gravityMean)</th>\n",
       "      <th>angle(tBodyGyroMean,gravityMean)</th>\n",
       "      <th>angle(tBodyGyroJerkMean,gravityMean)</th>\n",
       "      <th>angle(X,gravityMean)</th>\n",
       "      <th>angle(Y,gravityMean)</th>\n",
       "      <th>angle(Z,gravityMean)</th>\n",
       "    </tr>\n",
       "  </thead>\n",
       "  <tbody>\n",
       "    <tr>\n",
       "      <th>0</th>\n",
       "      <td>0.288585</td>\n",
       "      <td>-0.020294</td>\n",
       "      <td>-0.132905</td>\n",
       "      <td>-0.995279</td>\n",
       "      <td>-0.983111</td>\n",
       "      <td>-0.913526</td>\n",
       "      <td>-0.995112</td>\n",
       "      <td>-0.983185</td>\n",
       "      <td>-0.923527</td>\n",
       "      <td>-0.934724</td>\n",
       "      <td>...</td>\n",
       "      <td>-0.074323</td>\n",
       "      <td>-0.298676</td>\n",
       "      <td>-0.710304</td>\n",
       "      <td>-0.112754</td>\n",
       "      <td>0.030400</td>\n",
       "      <td>-0.464761</td>\n",
       "      <td>-0.018446</td>\n",
       "      <td>-0.841247</td>\n",
       "      <td>0.179941</td>\n",
       "      <td>-0.058627</td>\n",
       "    </tr>\n",
       "    <tr>\n",
       "      <th>1</th>\n",
       "      <td>0.278419</td>\n",
       "      <td>-0.016411</td>\n",
       "      <td>-0.123520</td>\n",
       "      <td>-0.998245</td>\n",
       "      <td>-0.975300</td>\n",
       "      <td>-0.960322</td>\n",
       "      <td>-0.998807</td>\n",
       "      <td>-0.974914</td>\n",
       "      <td>-0.957686</td>\n",
       "      <td>-0.943068</td>\n",
       "      <td>...</td>\n",
       "      <td>0.158075</td>\n",
       "      <td>-0.595051</td>\n",
       "      <td>-0.861499</td>\n",
       "      <td>0.053477</td>\n",
       "      <td>-0.007435</td>\n",
       "      <td>-0.732626</td>\n",
       "      <td>0.703511</td>\n",
       "      <td>-0.844788</td>\n",
       "      <td>0.180289</td>\n",
       "      <td>-0.054317</td>\n",
       "    </tr>\n",
       "    <tr>\n",
       "      <th>2</th>\n",
       "      <td>0.279653</td>\n",
       "      <td>-0.019467</td>\n",
       "      <td>-0.113462</td>\n",
       "      <td>-0.995380</td>\n",
       "      <td>-0.967187</td>\n",
       "      <td>-0.978944</td>\n",
       "      <td>-0.996520</td>\n",
       "      <td>-0.963668</td>\n",
       "      <td>-0.977469</td>\n",
       "      <td>-0.938692</td>\n",
       "      <td>...</td>\n",
       "      <td>0.414503</td>\n",
       "      <td>-0.390748</td>\n",
       "      <td>-0.760104</td>\n",
       "      <td>-0.118559</td>\n",
       "      <td>0.177899</td>\n",
       "      <td>0.100699</td>\n",
       "      <td>0.808529</td>\n",
       "      <td>-0.848933</td>\n",
       "      <td>0.180637</td>\n",
       "      <td>-0.049118</td>\n",
       "    </tr>\n",
       "    <tr>\n",
       "      <th>3</th>\n",
       "      <td>0.279174</td>\n",
       "      <td>-0.026201</td>\n",
       "      <td>-0.123283</td>\n",
       "      <td>-0.996091</td>\n",
       "      <td>-0.983403</td>\n",
       "      <td>-0.990675</td>\n",
       "      <td>-0.997099</td>\n",
       "      <td>-0.982750</td>\n",
       "      <td>-0.989302</td>\n",
       "      <td>-0.938692</td>\n",
       "      <td>...</td>\n",
       "      <td>0.404573</td>\n",
       "      <td>-0.117290</td>\n",
       "      <td>-0.482845</td>\n",
       "      <td>-0.036788</td>\n",
       "      <td>-0.012892</td>\n",
       "      <td>0.640011</td>\n",
       "      <td>-0.485366</td>\n",
       "      <td>-0.848649</td>\n",
       "      <td>0.181935</td>\n",
       "      <td>-0.047663</td>\n",
       "    </tr>\n",
       "    <tr>\n",
       "      <th>4</th>\n",
       "      <td>0.276629</td>\n",
       "      <td>-0.016570</td>\n",
       "      <td>-0.115362</td>\n",
       "      <td>-0.998139</td>\n",
       "      <td>-0.980817</td>\n",
       "      <td>-0.990482</td>\n",
       "      <td>-0.998321</td>\n",
       "      <td>-0.979672</td>\n",
       "      <td>-0.990441</td>\n",
       "      <td>-0.942469</td>\n",
       "      <td>...</td>\n",
       "      <td>0.087753</td>\n",
       "      <td>-0.351471</td>\n",
       "      <td>-0.699205</td>\n",
       "      <td>0.123320</td>\n",
       "      <td>0.122542</td>\n",
       "      <td>0.693578</td>\n",
       "      <td>-0.615971</td>\n",
       "      <td>-0.847865</td>\n",
       "      <td>0.185151</td>\n",
       "      <td>-0.043892</td>\n",
       "    </tr>\n",
       "  </tbody>\n",
       "</table>\n",
       "<p>5 rows × 561 columns</p>\n",
       "</div>"
      ]
     },
     "execution_count": 10,
     "metadata": {},
     "output_type": "execute_result"
    }
   ],
   "execution_count": 10
  },
  {
   "cell_type": "code",
   "metadata": {
    "ExecuteTime": {
     "end_time": "2025-09-22T06:12:30.261463Z",
     "start_time": "2025-09-22T06:12:30.229245Z"
    }
   },
   "source": [
    "# Y_train 값 조회 \n",
    "# Y_train_value_count= Y_train[\"action\"].value_counts()\n",
    "print(f\"Y_train['action'].value_counts() : \\n {Y_train['action'].value_counts()}\")"
   ],
   "outputs": [
    {
     "name": "stdout",
     "output_type": "stream",
     "text": [
      "Y_train['action'].value_counts() : \n",
      " action\n",
      "6    1407\n",
      "5    1374\n",
      "4    1286\n",
      "1    1226\n",
      "2    1073\n",
      "3     986\n",
      "Name: count, dtype: int64\n"
     ]
    }
   ],
   "execution_count": 11
  },
  {
   "cell_type": "code",
   "metadata": {
    "ExecuteTime": {
     "end_time": "2025-09-22T06:12:36.072943Z",
     "start_time": "2025-09-22T06:12:36.041211Z"
    }
   },
   "source": [
    "# 움직임의 6가지 라벨링 불러오기. \n",
    "label_name_df = pd.read_csv(\"./UCI HAR Dataset/activity_labels.txt\", sep=\"\\s+\", header=None ,\n",
    "                            names=[\"index\",\"label\"], engine=\"python\")\n",
    "label_name_df.head()"
   ],
   "outputs": [
    {
     "data": {
      "text/plain": [
       "   index               label\n",
       "0      1             WALKING\n",
       "1      2    WALKING_UPSTAIRS\n",
       "2      3  WALKING_DOWNSTAIRS\n",
       "3      4             SITTING\n",
       "4      5            STANDING"
      ],
      "text/html": [
       "<div>\n",
       "<style scoped>\n",
       "    .dataframe tbody tr th:only-of-type {\n",
       "        vertical-align: middle;\n",
       "    }\n",
       "\n",
       "    .dataframe tbody tr th {\n",
       "        vertical-align: top;\n",
       "    }\n",
       "\n",
       "    .dataframe thead th {\n",
       "        text-align: right;\n",
       "    }\n",
       "</style>\n",
       "<table border=\"1\" class=\"dataframe\">\n",
       "  <thead>\n",
       "    <tr style=\"text-align: right;\">\n",
       "      <th></th>\n",
       "      <th>index</th>\n",
       "      <th>label</th>\n",
       "    </tr>\n",
       "  </thead>\n",
       "  <tbody>\n",
       "    <tr>\n",
       "      <th>0</th>\n",
       "      <td>1</td>\n",
       "      <td>WALKING</td>\n",
       "    </tr>\n",
       "    <tr>\n",
       "      <th>1</th>\n",
       "      <td>2</td>\n",
       "      <td>WALKING_UPSTAIRS</td>\n",
       "    </tr>\n",
       "    <tr>\n",
       "      <th>2</th>\n",
       "      <td>3</td>\n",
       "      <td>WALKING_DOWNSTAIRS</td>\n",
       "    </tr>\n",
       "    <tr>\n",
       "      <th>3</th>\n",
       "      <td>4</td>\n",
       "      <td>SITTING</td>\n",
       "    </tr>\n",
       "    <tr>\n",
       "      <th>4</th>\n",
       "      <td>5</td>\n",
       "      <td>STANDING</td>\n",
       "    </tr>\n",
       "  </tbody>\n",
       "</table>\n",
       "</div>"
      ]
     },
     "execution_count": 12,
     "metadata": {},
     "output_type": "execute_result"
    }
   ],
   "execution_count": 12
  },
  {
   "cell_type": "code",
   "metadata": {
    "ExecuteTime": {
     "end_time": "2025-09-22T06:12:37.819032Z",
     "start_time": "2025-09-22T06:12:37.803386Z"
    }
   },
   "source": [
    "# 인덱스 제거 \n",
    "label_name = label_name_df.iloc[:,1].values.tolist()\n",
    "label_name"
   ],
   "outputs": [
    {
     "data": {
      "text/plain": [
       "['WALKING',\n",
       " 'WALKING_UPSTAIRS',\n",
       " 'WALKING_DOWNSTAIRS',\n",
       " 'SITTING',\n",
       " 'STANDING',\n",
       " 'LAYING']"
      ]
     },
     "execution_count": 13,
     "metadata": {},
     "output_type": "execute_result"
    }
   ],
   "execution_count": 13
  },
  {
   "cell_type": "code",
   "metadata": {
    "ExecuteTime": {
     "end_time": "2025-09-22T06:12:39.713990Z",
     "start_time": "2025-09-22T06:12:39.265444Z"
    }
   },
   "source": [
    "# 분석 모델 구축\n",
    "from sklearn.tree import DecisionTreeClassifier"
   ],
   "outputs": [],
   "execution_count": 14
  },
  {
   "cell_type": "code",
   "metadata": {
    "ExecuteTime": {
     "end_time": "2025-09-22T06:12:41.640753Z",
     "start_time": "2025-09-22T06:12:41.625150Z"
    }
   },
   "source": [
    "# 모델 불러오기\n",
    "dt_HAR = DecisionTreeClassifier()\n"
   ],
   "outputs": [],
   "execution_count": 15
  },
  {
   "cell_type": "code",
   "metadata": {
    "ExecuteTime": {
     "end_time": "2025-09-22T06:12:47.070833Z",
     "start_time": "2025-09-22T06:12:43.584743Z"
    }
   },
   "source": [
    "# 모델 훈련(학습 시키기)\n",
    "dt_HAR.fit(X_train, Y_train)"
   ],
   "outputs": [
    {
     "data": {
      "text/plain": [
       "DecisionTreeClassifier()"
      ]
     },
     "execution_count": 16,
     "metadata": {},
     "output_type": "execute_result"
    }
   ],
   "execution_count": 16
  },
  {
   "cell_type": "code",
   "metadata": {
    "ExecuteTime": {
     "end_time": "2025-09-22T06:12:50.214839Z",
     "start_time": "2025-09-22T06:12:50.194698Z"
    }
   },
   "source": [
    "# 학습 된 모델을 이용해서, 평가하기(예측값 구하기.)\n",
    "Y_predict = dt_HAR.predict(X_test)"
   ],
   "outputs": [],
   "execution_count": 18
  },
  {
   "cell_type": "code",
   "metadata": {
    "ExecuteTime": {
     "end_time": "2025-09-22T06:12:51.722807Z",
     "start_time": "2025-09-22T06:12:51.707170Z"
    }
   },
   "source": [
    "# 정확도 측정 해보기. \n",
    "from sklearn.metrics import accuracy_score\n",
    "\n",
    "accuracy = accuracy_score(Y_test, Y_predict)\n",
    "print(f\"accuracy 정확도 : {accuracy}\")\n",
    "print(\"accuracy 정확도: {0:.4f}\".format(accuracy))"
   ],
   "outputs": [
    {
     "name": "stdout",
     "output_type": "stream",
     "text": [
      "accuracy 정확도 : 0.8574821852731591\n",
      "accuracy 정확도: 0.8575\n"
     ]
    }
   ],
   "execution_count": 19
  },
  {
   "cell_type": "code",
   "metadata": {
    "ExecuteTime": {
     "end_time": "2025-09-22T06:12:56.571949Z",
     "start_time": "2025-09-22T06:12:56.567872Z"
    }
   },
   "source": [
    "# 결정 트리의 하이퍼 매개변수의 기본정보 -> gini 정보 지수 확인용 \n",
    "# 'criterion': 'gini', 분할 기준이 지니 계수를 이용한다. \n",
    "print(\"결정 트리의 하이퍼 매개변수의 기본정보 : \", dt_HAR.get_params())"
   ],
   "outputs": [
    {
     "name": "stdout",
     "output_type": "stream",
     "text": [
      "결정 트리의 하이퍼 매개변수의 기본정보 :  {'ccp_alpha': 0.0, 'class_weight': None, 'criterion': 'gini', 'max_depth': None, 'max_features': None, 'max_leaf_nodes': None, 'min_impurity_decrease': 0.0, 'min_samples_leaf': 1, 'min_samples_split': 2, 'min_weight_fraction_leaf': 0.0, 'random_state': None, 'splitter': 'best'}\n"
     ]
    }
   ],
   "execution_count": 20
  },
  {
   "cell_type": "code",
   "metadata": {
    "ExecuteTime": {
     "end_time": "2025-09-22T06:14:43.722778Z",
     "start_time": "2025-09-22T06:13:24.207627Z"
    }
   },
   "source": [
    "# 해당 정보를 이용해서, 기본 그래프 확인.\n",
    "# 결정트리 시각화 툴 설치해서, 확인 해보기.\n",
    "from sklearn.model_selection import GridSearchCV\n",
    "\n",
    "# 규칙 노드와, 결정 노드 사이의 깊이를 임의로 정해서, 모델에게 넘겨주기\n",
    "# 모델은 전달받은 깊이를 스스로 학습해서, 최적의 깊이를 찾기.\n",
    "params = {\n",
    "  \"max_depth\" : [6,8,10,12,16,20,24]\n",
    "}\n",
    "# scoring=\"accuracy\" -> 정확도 기준\n",
    "# cv=5 -> 교차 검증 분할수 5번, 4개의 훈련셋 , 1개의 검증 , 5번 반복\n",
    "# return_train_score= True -> 훈련 데이터에 대한 성능 점수를 반환 받겠다. \n",
    "grid_cv = GridSearchCV(dt_HAR, param_grid=params, scoring=\"accuracy\", cv=5, return_train_score= True)\n",
    "\n",
    "# 교차 검증을 이용해서, 모델에 학습 시키기 \n",
    "grid_cv.fit(X_train,Y_train)\n",
    "\n",
    "#"
   ],
   "outputs": [
    {
     "data": {
      "text/plain": [
       "GridSearchCV(cv=5, estimator=DecisionTreeClassifier(),\n",
       "             param_grid={'max_depth': [6, 8, 10, 12, 16, 20, 24]},\n",
       "             return_train_score=True, scoring='accuracy')"
      ]
     },
     "execution_count": 21,
     "metadata": {},
     "output_type": "execute_result"
    }
   ],
   "execution_count": 21
  },
  {
   "cell_type": "code",
   "metadata": {
    "ExecuteTime": {
     "end_time": "2025-09-22T06:15:27.388209Z",
     "start_time": "2025-09-22T06:15:27.369238Z"
    }
   },
   "source": [
    "cv_results_df = pd.DataFrame(grid_cv.cv_results_)\n",
    "\n",
    "cv_results_df[[\"param_max_depth\", \"mean_test_score\",\"mean_train_score\"]]"
   ],
   "outputs": [
    {
     "data": {
      "text/plain": [
       "  param_max_depth  mean_test_score  mean_train_score\n",
       "0               6         0.844125          0.944879\n",
       "1               8         0.849708          0.982692\n",
       "2              10         0.849166          0.993403\n",
       "3              12         0.842638          0.997178\n",
       "4              16         0.847670          0.999660\n",
       "5              20         0.846312          0.999966\n",
       "6              24         0.844135          1.000000"
      ],
      "text/html": [
       "<div>\n",
       "<style scoped>\n",
       "    .dataframe tbody tr th:only-of-type {\n",
       "        vertical-align: middle;\n",
       "    }\n",
       "\n",
       "    .dataframe tbody tr th {\n",
       "        vertical-align: top;\n",
       "    }\n",
       "\n",
       "    .dataframe thead th {\n",
       "        text-align: right;\n",
       "    }\n",
       "</style>\n",
       "<table border=\"1\" class=\"dataframe\">\n",
       "  <thead>\n",
       "    <tr style=\"text-align: right;\">\n",
       "      <th></th>\n",
       "      <th>param_max_depth</th>\n",
       "      <th>mean_test_score</th>\n",
       "      <th>mean_train_score</th>\n",
       "    </tr>\n",
       "  </thead>\n",
       "  <tbody>\n",
       "    <tr>\n",
       "      <th>0</th>\n",
       "      <td>6</td>\n",
       "      <td>0.844125</td>\n",
       "      <td>0.944879</td>\n",
       "    </tr>\n",
       "    <tr>\n",
       "      <th>1</th>\n",
       "      <td>8</td>\n",
       "      <td>0.849708</td>\n",
       "      <td>0.982692</td>\n",
       "    </tr>\n",
       "    <tr>\n",
       "      <th>2</th>\n",
       "      <td>10</td>\n",
       "      <td>0.849166</td>\n",
       "      <td>0.993403</td>\n",
       "    </tr>\n",
       "    <tr>\n",
       "      <th>3</th>\n",
       "      <td>12</td>\n",
       "      <td>0.842638</td>\n",
       "      <td>0.997178</td>\n",
       "    </tr>\n",
       "    <tr>\n",
       "      <th>4</th>\n",
       "      <td>16</td>\n",
       "      <td>0.847670</td>\n",
       "      <td>0.999660</td>\n",
       "    </tr>\n",
       "    <tr>\n",
       "      <th>5</th>\n",
       "      <td>20</td>\n",
       "      <td>0.846312</td>\n",
       "      <td>0.999966</td>\n",
       "    </tr>\n",
       "    <tr>\n",
       "      <th>6</th>\n",
       "      <td>24</td>\n",
       "      <td>0.844135</td>\n",
       "      <td>1.000000</td>\n",
       "    </tr>\n",
       "  </tbody>\n",
       "</table>\n",
       "</div>"
      ]
     },
     "execution_count": 22,
     "metadata": {},
     "output_type": "execute_result"
    }
   ],
   "execution_count": 22
  },
  {
   "cell_type": "code",
   "metadata": {
    "ExecuteTime": {
     "end_time": "2025-09-22T06:17:04.374392Z",
     "start_time": "2025-09-22T06:17:04.343007Z"
    }
   },
   "source": [
    "print(\"최고의 평균 정확도 : {0:.4f}, 최적의 하이퍼 매개변수 : {1}\".format(grid_cv.best_score_,grid_cv.best_params_))"
   ],
   "outputs": [
    {
     "name": "stdout",
     "output_type": "stream",
     "text": [
      "최고의 평균 정확도 : 0.8497, 최적의 하이퍼 매개변수 : {'max_depth': 8}\n"
     ]
    }
   ],
   "execution_count": 23
  },
  {
   "cell_type": "code",
   "metadata": {
    "ExecuteTime": {
     "end_time": "2025-09-22T06:18:52.011311Z",
     "start_time": "2025-09-22T06:17:05.888532Z"
    }
   },
   "source": [
    "# 2번째, 교차 검증을 해서, 조금 더 정확한 결과를 확인해보기.\n",
    "params = {\n",
    "  \"max_depth\" : [8,16,20],\n",
    "  \"min_samples_split\" : [8,16,24]\n",
    "}\n",
    "\n",
    "# 모델 학습 시키기, 옵션 설정이 동일해서, 위의 코드 재사용. \n",
    "# scoring=\"accuracy\" -> 정확도 기준\n",
    "# cv=5 -> 교차 검증 분할수 5번, 4개의 훈련셋 , 1개의 검증 , 5번 반복\n",
    "# return_train_score= True -> 훈련 데이터에 대한 성능 점수를 반환 받겠다. \n",
    "grid_cv = GridSearchCV(dt_HAR, param_grid=params, scoring=\"accuracy\", cv=5, return_train_score= True)\n",
    "\n",
    "# 교차 검증을 이용해서, 모델에 학습 시키기 \n",
    "grid_cv.fit(X_train,Y_train)"
   ],
   "outputs": [
    {
     "data": {
      "text/plain": [
       "GridSearchCV(cv=5, estimator=DecisionTreeClassifier(),\n",
       "             param_grid={'max_depth': [8, 16, 20],\n",
       "                         'min_samples_split': [8, 16, 24]},\n",
       "             return_train_score=True, scoring='accuracy')"
      ]
     },
     "execution_count": 24,
     "metadata": {},
     "output_type": "execute_result"
    }
   ],
   "execution_count": 24
  },
  {
   "cell_type": "code",
   "metadata": {
    "ExecuteTime": {
     "end_time": "2025-09-22T06:18:56.982837Z",
     "start_time": "2025-09-22T06:18:56.947024Z"
    }
   },
   "source": [
    "cv_results_df = pd.DataFrame(grid_cv.cv_results_)\n",
    "# cv_results_df\n",
    "cv_results_df[[\"param_max_depth\",\"param_min_samples_split\",\"mean_test_score\",\"mean_train_score\"]]"
   ],
   "outputs": [
    {
     "data": {
      "text/plain": [
       "  param_max_depth param_min_samples_split  mean_test_score  mean_train_score\n",
       "0               8                       8         0.852429          0.981468\n",
       "1               8                      16         0.848213          0.979836\n",
       "2               8                      24         0.857326          0.978237\n",
       "3              16                       8         0.844951          0.994559\n",
       "4              16                      16         0.841140          0.990547\n",
       "5              16                      24         0.849438          0.986772\n",
       "6              20                       8         0.848352          0.994491\n",
       "7              20                      16         0.845225          0.990547\n",
       "8              20                      24         0.843725          0.986772"
      ],
      "text/html": [
       "<div>\n",
       "<style scoped>\n",
       "    .dataframe tbody tr th:only-of-type {\n",
       "        vertical-align: middle;\n",
       "    }\n",
       "\n",
       "    .dataframe tbody tr th {\n",
       "        vertical-align: top;\n",
       "    }\n",
       "\n",
       "    .dataframe thead th {\n",
       "        text-align: right;\n",
       "    }\n",
       "</style>\n",
       "<table border=\"1\" class=\"dataframe\">\n",
       "  <thead>\n",
       "    <tr style=\"text-align: right;\">\n",
       "      <th></th>\n",
       "      <th>param_max_depth</th>\n",
       "      <th>param_min_samples_split</th>\n",
       "      <th>mean_test_score</th>\n",
       "      <th>mean_train_score</th>\n",
       "    </tr>\n",
       "  </thead>\n",
       "  <tbody>\n",
       "    <tr>\n",
       "      <th>0</th>\n",
       "      <td>8</td>\n",
       "      <td>8</td>\n",
       "      <td>0.852429</td>\n",
       "      <td>0.981468</td>\n",
       "    </tr>\n",
       "    <tr>\n",
       "      <th>1</th>\n",
       "      <td>8</td>\n",
       "      <td>16</td>\n",
       "      <td>0.848213</td>\n",
       "      <td>0.979836</td>\n",
       "    </tr>\n",
       "    <tr>\n",
       "      <th>2</th>\n",
       "      <td>8</td>\n",
       "      <td>24</td>\n",
       "      <td>0.857326</td>\n",
       "      <td>0.978237</td>\n",
       "    </tr>\n",
       "    <tr>\n",
       "      <th>3</th>\n",
       "      <td>16</td>\n",
       "      <td>8</td>\n",
       "      <td>0.844951</td>\n",
       "      <td>0.994559</td>\n",
       "    </tr>\n",
       "    <tr>\n",
       "      <th>4</th>\n",
       "      <td>16</td>\n",
       "      <td>16</td>\n",
       "      <td>0.841140</td>\n",
       "      <td>0.990547</td>\n",
       "    </tr>\n",
       "    <tr>\n",
       "      <th>5</th>\n",
       "      <td>16</td>\n",
       "      <td>24</td>\n",
       "      <td>0.849438</td>\n",
       "      <td>0.986772</td>\n",
       "    </tr>\n",
       "    <tr>\n",
       "      <th>6</th>\n",
       "      <td>20</td>\n",
       "      <td>8</td>\n",
       "      <td>0.848352</td>\n",
       "      <td>0.994491</td>\n",
       "    </tr>\n",
       "    <tr>\n",
       "      <th>7</th>\n",
       "      <td>20</td>\n",
       "      <td>16</td>\n",
       "      <td>0.845225</td>\n",
       "      <td>0.990547</td>\n",
       "    </tr>\n",
       "    <tr>\n",
       "      <th>8</th>\n",
       "      <td>20</td>\n",
       "      <td>24</td>\n",
       "      <td>0.843725</td>\n",
       "      <td>0.986772</td>\n",
       "    </tr>\n",
       "  </tbody>\n",
       "</table>\n",
       "</div>"
      ]
     },
     "execution_count": 25,
     "metadata": {},
     "output_type": "execute_result"
    }
   ],
   "execution_count": 25
  },
  {
   "cell_type": "code",
   "metadata": {
    "ExecuteTime": {
     "end_time": "2025-09-22T06:19:01.379801Z",
     "start_time": "2025-09-22T06:19:01.364141Z"
    }
   },
   "source": [
    "print(\"최고의 평균 정확도 : {0:.4f}, 최적의 하이퍼 매개변수 : {1}\".format(grid_cv.best_score_,grid_cv.best_params_))"
   ],
   "outputs": [
    {
     "name": "stdout",
     "output_type": "stream",
     "text": [
      "최고의 평균 정확도 : 0.8573, 최적의 하이퍼 매개변수 : {'max_depth': 8, 'min_samples_split': 24}\n"
     ]
    }
   ],
   "execution_count": 26
  },
  {
   "cell_type": "code",
   "metadata": {
    "ExecuteTime": {
     "end_time": "2025-09-22T06:19:36.436Z",
     "start_time": "2025-09-22T06:19:36.407661Z"
    }
   },
   "source": [
    "# 최적의 파라미터를 찾았고, 이 파라미터를 이용해서, \n",
    "# 최적의 모델을 구현해서, 다시 학습 후, 예측값을 구해서, 다시 평가 지표 점수를 확인. \n",
    "# 최적의 모델이라고 보면됨. \n",
    "best_dt_HAR = grid_cv.best_estimator_\n",
    "\n",
    "# 최적을 모델을 이용해서, 학습시키기 -> 예측값을 조회. \n",
    "best_Y_predict = best_dt_HAR.predict(X_test)\n",
    "\n",
    "# 채점, 확인하기. 정확도 얼마인지?\n",
    "best_accuracy = accuracy_score(Y_test, best_Y_predict)\n",
    "\n",
    "print(\"베스트 결정 트리 예측 정확도 : {0:.4f}\".format(best_accuracy))\n"
   ],
   "outputs": [
    {
     "name": "stdout",
     "output_type": "stream",
     "text": [
      "베스트 결정 트리 예측 정확도 : 0.8700\n"
     ]
    }
   ],
   "execution_count": 28
  },
  {
   "cell_type": "code",
   "metadata": {
    "ExecuteTime": {
     "end_time": "2025-09-22T06:19:38.242054Z",
     "start_time": "2025-09-22T06:19:38.226356Z"
    }
   },
   "source": [
    "# 간단한 막대 그래프로 시각화. \n",
    "# 독립 변수(=피처)가 : 561개 있음. 그중에서, 중요도가 높은 피처 10개를 찾아서, 그래프 그리기.\n",
    "\n",
    "import seaborn as sns \n",
    "import matplotlib.pyplot as plt  \n"
   ],
   "outputs": [],
   "execution_count": 29
  },
  {
   "cell_type": "code",
   "metadata": {
    "ExecuteTime": {
     "end_time": "2025-09-22T06:19:39.728159Z",
     "start_time": "2025-09-22T06:19:39.705180Z"
    }
   },
   "source": [
    "# 561개의 피쳐 중에서, 중요도로 10개 뽑기.\n",
    "feature_importances_values = best_dt_HAR.feature_importances_\n",
    "\n",
    "# 데이터 타입을 시리즈 라는 타입으로 변환해서, 확인, 시리즈, 행, 열이 한개씩 표현되는 데이터 구조. \n",
    "feature_importances_values_s = pd.Series(feature_importances_values, index=X_train.columns)\n",
    "\n",
    "# 내림 차순 정렬을 해서, 상위 10개만 슬라이싱으로 가져오기. \n",
    "feature_top10 = feature_importances_values_s.sort_values(ascending=False)[:10]\n",
    "\n",
    "feature_top10\n"
   ],
   "outputs": [
    {
     "data": {
      "text/plain": [
       "tGravityAcc-min()-X            0.254008\n",
       "fBodyAcc-mad()-X               0.213132\n",
       "angle(Y,gravityMean)           0.139359\n",
       "fBodyAccMag-energy()           0.115776\n",
       "tGravityAcc-arCoeff()-Z,2      0.101810\n",
       "fBodyGyro-maxInds-X            0.024033\n",
       "tGravityAcc-energy()-Y         0.020523\n",
       "tBodyGyro-correlation()-Y,Z    0.016556\n",
       "tGravityAccMag-arCoeff()1      0.015782\n",
       "fBodyAcc-max()-Y               0.008847\n",
       "dtype: float64"
      ]
     },
     "execution_count": 30,
     "metadata": {},
     "output_type": "execute_result"
    }
   ],
   "execution_count": 30
  },
  {
   "cell_type": "code",
   "metadata": {
    "ExecuteTime": {
     "end_time": "2025-09-22T06:19:42.337062Z",
     "start_time": "2025-09-22T06:19:42.111117Z"
    }
   },
   "source": [
    "# 그림그리기 \n",
    "plt.figure(figsize=(10,5))\n",
    "plt.title(\"Feature Top 10\")\n",
    "sns.barplot(x=feature_top10, y = feature_top10.index)\n",
    "plt.show()"
   ],
   "outputs": [
    {
     "data": {
      "text/plain": [
       "<Figure size 1000x500 with 1 Axes>"
      ],
      "image/png": "[encoded data removed]"
     },
     "metadata": {},
     "output_type": "display_data",
     "jetTransient": {
      "display_id": null
     }
    }
   ],
   "execution_count": 31
  },
  {
   "cell_type": "markdown",
   "metadata": {},
   "source": [
    "## 시각화 도구 설치 순서\n",
    "### Graphviz를 사용한 결정트리 시각화\n",
    "### 이슈 \n",
    "### https://graphviz.gitlab.io/download/\n",
    "### 다운로드 \n",
    "\n",
    "### 설치 , 기본 설정 -> C:\\Program Files\\Graphviz 이 경로의 폴더를 복사.\n",
    "### C:\\Python\\Python310 하위에 폴더 붙여넣기.\n",
    "\n",
    "### 이동후 , 경로 -> C:\\Python\\Python310\\Graphviz\\bin\n",
    "### 시스템 환경 설정 패스에도 bin 까지만\n",
    "### \t- -bin\n",
    "### \t- -bin/dot.exe \n",
    "\t\n",
    "\n",
    "\n",
    "### 마지막 코드에 직접 추가\n",
    "### import os\n",
    "### os.environ[\"PATH\"]+=os.pathsep+'C:/Python/Python310/Graphviz/bin/'\n"
   ]
  },
  {
   "cell_type": "code",
   "metadata": {
    "ExecuteTime": {
     "end_time": "2025-03-04T06:38:25.096370Z",
     "start_time": "2025-03-04T06:38:23.631525Z"
    }
   },
   "source": "!pip install graphviz",
   "outputs": [
    {
     "name": "stdout",
     "output_type": "stream",
     "text": [
      "Defaulting to user installation because normal site-packages is not writeable\n",
      "Collecting graphviz\n",
      "  Using cached graphviz-0.20.3-py3-none-any.whl.metadata (12 kB)\n",
      "Using cached graphviz-0.20.3-py3-none-any.whl (47 kB)\n",
      "Installing collected packages: graphviz\n",
      "Successfully installed graphviz-0.20.3\n"
     ]
    }
   ],
   "execution_count": 31
  },
  {
   "cell_type": "code",
   "metadata": {
    "ExecuteTime": {
     "end_time": "2025-09-22T06:28:03.731651Z",
     "start_time": "2025-09-22T06:28:03.689724Z"
    }
   },
   "source": [
    "from sklearn.tree import export_graphviz\n",
    "export_graphviz(best_dt_HAR, out_file=\"tree.dot\", class_names=label_name, feature_names= feature_name, impurity=True, filled=True)"
   ],
   "outputs": [],
   "execution_count": 32
  },
  {
   "cell_type": "code",
   "metadata": {
    "ExecuteTime": {
     "end_time": "2025-09-22T06:31:02.970692Z",
     "start_time": "2025-09-22T06:31:01.025049Z"
    }
   },
   "source": [
    "import graphviz\n",
    "import os\n",
    "os.environ[\"PATH\"]+=os.pathsep+'C:/Program Files/Python310/Graphviz/bin'\n",
    "\n",
    "with open(\"tree.dot\") as f:\n",
    "  dot_graph = f.read()\n",
    "\n",
    "src = graphviz.Source(dot_graph)\n",
    "\n",
    "# 이미지 파일로 렌더링 및 저장\n",
    "# 'tree_image'라는 이름의 png 파일로 저장하고, 파일이 자동으로 열리는 것을 방지\n",
    "src.render('tree_image', format='png', view=False)\n",
    "\n",
    "print(\"이미지 파일이 'tree_image.png'로 저장되었습니다.\")"
   ],
   "outputs": [
    {
     "name": "stdout",
     "output_type": "stream",
     "text": [
      "이미지 파일이 'tree_image.png'로 저장되었습니다.\n"
     ]
    }
   ],
   "execution_count": 34
  },
  {
   "metadata": {},
   "cell_type": "code",
   "outputs": [],
   "execution_count": null,
   "source": ""
  }
 ],
 "metadata": {
  "kernelspec": {
   "display_name": "Python 3",
   "language": "python",
   "name": "python3"
  },
  "language_info": {
   "codemirror_mode": {
    "name": "ipython",
    "version": 3
   },
   "file_extension": ".py",
   "mimetype": "text/x-python",
   "name": "python",
   "nbconvert_exporter": "python",
   "pygments_lexer": "ipython3",
   "version": "3.10.7"
  }
 },
 "nbformat": 4,
 "nbformat_minor": 2
}
