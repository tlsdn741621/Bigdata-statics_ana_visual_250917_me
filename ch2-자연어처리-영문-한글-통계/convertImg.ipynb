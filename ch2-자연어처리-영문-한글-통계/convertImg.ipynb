{
 "cells": [
  {
   "cell_type": "code",
   "id": "initial_id",
   "metadata": {
    "collapsed": true,
    "ExecuteTime": {
     "end_time": "2025-09-18T02:40:00.014910Z",
     "start_time": "2025-09-18T02:39:59.995900Z"
    }
   },
   "source": [
    "from PIL import Image, ImageOps\n",
    "\n",
    "# 배경 이미지 제거 사이트\n",
    "# https://www.remove.bg/\n",
    "# 1. 이미지 열기\n",
    "# 예: 'cat_dog.png' 파일이 현재 디렉토리에 있다고 가정\n",
    "img = Image.open(\"test1.png\").convert(\"RGBA\")\n",
    "\n",
    "# 2. 알파 채널 추출 (투명 영역)\n",
    "#    투명 배경이 없는 JPG 등의 경우, 배경을 흰색으로 미리 교체해야 할 수도 있습니다.\n",
    "r, g, b, alpha = img.split()\n",
    "\n",
    "# 3. 알파 채널 기준으로 피사체(동물) 영역 마스크 만들기\n",
    "#    alpha가 0에 가까울수록 투명, 255에 가까울수록 불투명\n",
    "#    threshold(임계값)를 통해 이진화\n",
    "threshold = 128\n",
    "mask = alpha.point(lambda p: 255 if p > threshold else 0)\n",
    "\n",
    "# 4. 피사체 영역을 검정색으로 만들기\n",
    "#    - 새 이미지를 흰색 배경으로 만들고, 피사체 영역만 검정으로 채우는 방식\n",
    "width, height = img.size\n",
    "silhouette = Image.new(\"RGB\", (width, height), color=\"white\")  # 배경 흰색\n",
    "# mask가 흰색(255)인 부분만 검정(#000000)으로 채움\n",
    "# fill 영역이 마스크에서 흰색(255)에 해당하는 부분\n",
    "silhouette.paste(\"black\", (0, 0, width, height), mask=mask)\n",
    "\n",
    "# 5. PNG로 저장 (배경은 이미 흰색)\n",
    "silhouette.save(\"convert_result2.png\", \"PNG\")\n"
   ],
   "outputs": [],
   "execution_count": 8
  },
  {
   "metadata": {},
   "cell_type": "code",
   "outputs": [],
   "execution_count": null,
   "source": "",
   "id": "48411b1dbe6796ed"
  }
 ],
 "metadata": {
  "kernelspec": {
   "display_name": "Python 3",
   "language": "python",
   "name": "python3"
  },
  "language_info": {
   "codemirror_mode": {
    "name": "ipython",
    "version": 2
   },
   "file_extension": ".py",
   "mimetype": "text/x-python",
   "name": "python",
   "nbconvert_exporter": "python",
   "pygments_lexer": "ipython2",
   "version": "2.7.6"
  }
 },
 "nbformat": 4,
 "nbformat_minor": 5
}
